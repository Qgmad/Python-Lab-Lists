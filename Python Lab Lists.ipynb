{
 "cells": [
  {
   "cell_type": "code",
   "execution_count": 1,
   "metadata": {},
   "outputs": [
    {
     "name": "stdout",
     "output_type": "stream",
     "text": [
      "The list is empty\n"
     ]
    }
   ],
   "source": [
    "b=[]\n",
    "if len(b)==0:\n",
    "    print('The list is empty')\n",
    "else:\n",
    "    print('The list is not empty')"
   ]
  },
  {
   "cell_type": "code",
   "execution_count": 2,
   "metadata": {},
   "outputs": [
    {
     "name": "stdout",
     "output_type": "stream",
     "text": [
      "[1, 2, 3, 4, 5, 6, 7, 8, 9]\n"
     ]
    }
   ],
   "source": [
    "import copy\n",
    "a=[1,2,3,4,5,6,7,8,9]\n",
    "b=copy.deepcopy(a)\n",
    "print(b)"
   ]
  },
  {
   "cell_type": "code",
   "execution_count": 3,
   "metadata": {},
   "outputs": [
    {
     "name": "stdout",
     "output_type": "stream",
     "text": [
      "['green', 'white', 'black']\n"
     ]
    }
   ],
   "source": [
    "a=['red','green','white','black','pink','yellow']\n",
    "a.remove(a[0])\n",
    "a.remove(a[3])\n",
    "a.remove(a[3])\n",
    "print(a)"
   ]
  },
  {
   "cell_type": "code",
   "execution_count": 4,
   "metadata": {},
   "outputs": [
    {
     "name": "stdout",
     "output_type": "stream",
     "text": [
      "No of words are 2\n"
     ]
    }
   ],
   "source": [
    "b=[]\n",
    "a=['abc','xyz','aba','1221']\n",
    "for i in a:\n",
    "    if len(str(i))>2 and i[0]==i[-1]:\n",
    "        b.append(i)\n",
    "print('No of words are' ,len(b))"
   ]
  },
  {
   "cell_type": "code",
   "execution_count": 5,
   "metadata": {},
   "outputs": [
    {
     "name": "stdout",
     "output_type": "stream",
     "text": [
      "['abc', 'def', 'hi', 'jklm']\n"
     ]
    }
   ],
   "source": [
    "b=[]\n",
    "n=1\n",
    "a=['abc','def','g','hi','jklm']\n",
    "for i in a:\n",
    "    if len(i)>n:\n",
    "        b.append(i)\n",
    "print(b)"
   ]
  },
  {
   "cell_type": "code",
   "execution_count": 6,
   "metadata": {},
   "outputs": [
    {
     "name": "stdout",
     "output_type": "stream",
     "text": [
      "[1, 23, 25, 34, 36, 234, 254, 467, 542]\n",
      "542\n",
      "The largest element in the list is 542\n"
     ]
    }
   ],
   "source": [
    "a=[1,23,25,542,234,36,34,467,254]\n",
    "a.sort()\n",
    "print(a)\n",
    "print(a[-1])\n",
    "print('The largest element in the list is' ,max(a))"
   ]
  },
  {
   "cell_type": "code",
   "execution_count": 7,
   "metadata": {},
   "outputs": [
    {
     "name": "stdout",
     "output_type": "stream",
     "text": [
      "The sum of the numbers in the list is: 5040\n",
      "5040\n"
     ]
    }
   ],
   "source": [
    "import numpy\n",
    "b=1\n",
    "a=[1,2,3,4,5,6,7]\n",
    "for i in a:\n",
    "    b=b*i\n",
    "print('The sum of the numbers in the list is:',b)\n",
    "c=numpy.prod(a)\n",
    "print(c)"
   ]
  },
  {
   "cell_type": "code",
   "execution_count": 8,
   "metadata": {},
   "outputs": [
    {
     "name": "stdout",
     "output_type": "stream",
     "text": [
      "[1, 2, 4, 34, 32, 23, 3, 33, 423]\n"
     ]
    }
   ],
   "source": [
    "a=[1,1,2,4,34,32,23,3,32,1,1,3,4,3,33,3,423,32,2,4]\n",
    "a=list(dict.fromkeys(a))\n",
    "print(a)"
   ]
  },
  {
   "cell_type": "code",
   "execution_count": 9,
   "metadata": {},
   "outputs": [
    {
     "name": "stdout",
     "output_type": "stream",
     "text": [
      "[1, 23, 25, 34, 36, 234, 254, 467, 542]\n",
      "1\n",
      "The smallest element in the list is: 1\n",
      "The largest element in the list is: 542\n"
     ]
    }
   ],
   "source": [
    "a=[1,23,25,542,234,36,34,467,254]\n",
    "a.sort()\n",
    "print(a)\n",
    "print(a[0])\n",
    "print('The smallest element in the list is:' ,min(a))\n",
    "print('The largest element in the list is:' ,max(a))"
   ]
  },
  {
   "cell_type": "code",
   "execution_count": 10,
   "metadata": {},
   "outputs": [
    {
     "name": "stdout",
     "output_type": "stream",
     "text": [
      "[(2, 1), (1, 2), (2, 3), (4, 4), (2, 5)]\n",
      "[(2, 5), (4, 4), (2, 3), (1, 2), (2, 1)]\n"
     ]
    }
   ],
   "source": [
    "import operator\n",
    "a=[(2,5),(1,2),(4,4),(2,3),(2,1)]\n",
    "a.sort(key=operator.itemgetter(1))\n",
    "print(a)\n",
    "a.sort(key=operator.itemgetter(1), reverse=True)\n",
    "print(a)"
   ]
  },
  {
   "cell_type": "code",
   "execution_count": 11,
   "metadata": {},
   "outputs": [
    {
     "name": "stdout",
     "output_type": "stream",
     "text": [
      "The sum of the numbers in the list is 28\n"
     ]
    }
   ],
   "source": [
    "b=0\n",
    "a=[1,2,3,4,5,6,7]\n",
    "for i in range(0,len(a)):\n",
    "    b=b+a[i]\n",
    "print('The sum of the numbers in the list is' ,b)"
   ]
  },
  {
   "cell_type": "code",
   "execution_count": 14,
   "metadata": {},
   "outputs": [
    {
     "name": "stdout",
     "output_type": "stream",
     "text": [
      "True\n",
      "True\n",
      "True\n"
     ]
    }
   ],
   "source": [
    "a=[1,2,3,4,5]\n",
    "b=[1,7,3,9,5]\n",
    "for i in a:\n",
    "    for j in b:\n",
    "        if i==j:\n",
    "            print('True')"
   ]
  },
  {
   "cell_type": "code",
   "execution_count": null,
   "metadata": {},
   "outputs": [],
   "source": []
  }
 ],
 "metadata": {
  "kernelspec": {
   "display_name": "Python 3",
   "language": "python",
   "name": "python3"
  },
  "language_info": {
   "codemirror_mode": {
    "name": "ipython",
    "version": 3
   },
   "file_extension": ".py",
   "mimetype": "text/x-python",
   "name": "python",
   "nbconvert_exporter": "python",
   "pygments_lexer": "ipython3",
   "version": "3.7.6"
  }
 },
 "nbformat": 4,
 "nbformat_minor": 4
}
